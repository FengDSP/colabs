{
 "cells": [
  {
   "cell_type": "code",
   "execution_count": 3,
   "metadata": {},
   "outputs": [],
   "source": [
    "import numpy as np"
   ]
  },
  {
   "cell_type": "code",
   "execution_count": 47,
   "metadata": {},
   "outputs": [],
   "source": [
    "def simple_conv2d(input_matrix: np.ndarray, kernel: np.ndarray, padding: int, stride: int):\n",
    "\tinput_height, input_width = input_matrix.shape\n",
    "\tkernel_height, kernel_width = kernel.shape\n",
    "\n",
    "\tx = input_matrix\n",
    "\n",
    "\tif padding > 0:\n",
    "\t\tx = np.concatenate([np.zeros([len(x), padding]), x, np.zeros([len(x), padding])], axis=1)\n",
    "\t\tx = np.concatenate([np.zeros([padding, len(x[0])]), x, np.zeros([padding, len(x[0])])], axis=0)\n",
    "\t\n",
    "\tx = x[:, :, None]\n",
    "\tys = []\n",
    "\tfor i in range(len(kernel)):\n",
    "\t\tys.append(x[i: len(x) + i + 1 - len(kernel)])\n",
    "\tx = np.concatenate(ys, axis=-1)\n",
    "\n",
    "\tx = x[:, :, :, None]\n",
    "\tys = []\n",
    "\tfor i in range(len(kernel[0])):\n",
    "\t\tys.append(x[:, i: len(x[0]) + i + 1 - len(kernel)])\n",
    "\tx = np.concatenate(ys, axis=-1)\n",
    "\n",
    "\tif stride > 1:\n",
    "\t\tx = x[::stride, ::stride, :, :]\n",
    "\tprint(x.shape)\n",
    "\n",
    "\tx = np.einsum(\"ABCD,CD->AB\", x, kernel)\n",
    "\n",
    "\treturn x\n"
   ]
  },
  {
   "cell_type": "code",
   "execution_count": 48,
   "metadata": {},
   "outputs": [
    {
     "name": "stdout",
     "output_type": "stream",
     "text": [
      "(4, 4, 2, 2)\n",
      "[[ 16.  21.  26.  31.]\n",
      " [ 41.  46.  51.  56.]\n",
      " [ 66.  71.  76.  81.]\n",
      " [ 91.  96. 101. 106.]]\n"
     ]
    }
   ],
   "source": [
    "input_matrix = np.array([\n",
    "    [1., 2., 3., 4., 5.],\n",
    "    [6., 7., 8., 9., 10.],\n",
    "    [11., 12., 13., 14., 15.],\n",
    "    [16., 17., 18., 19., 20.],\n",
    "    [21., 22., 23., 24., 25.],\n",
    "])\n",
    "kernel = np.array([\n",
    "    [1., 2.],\n",
    "    [3., -1.],\n",
    "])\n",
    "padding, stride = 0, 1\n",
    "expected = np.array([\n",
    "    [ 16., 21., 26., 31.],\n",
    "    [ 41., 46., 51., 56.],\n",
    "    [ 66., 71., 76., 81.],\n",
    "    [ 91., 96., 101., 106.],\n",
    "])\n",
    "output = simple_conv2d(input_matrix, kernel, padding, stride)\n",
    "print(output)"
   ]
  },
  {
   "cell_type": "code",
   "execution_count": 49,
   "metadata": {},
   "outputs": [
    {
     "name": "stdout",
     "output_type": "stream",
     "text": [
      "(4, 4, 2, 2)\n",
      "[[ 0.   0.   0.   0. ]\n",
      " [ 0.   5.9 13.3 12.5]\n",
      " [ 0.  42.9 50.3 27.5]\n",
      " [ 0.  80.9 88.3 12.5]]\n"
     ]
    }
   ],
   "source": [
    "# Test 2\n",
    "input_matrix = np.array([\n",
    "    [1., 2., 3., 4., 5.],\n",
    "    [6., 7., 8., 9., 10.],\n",
    "    [11., 12., 13., 14., 15.],\n",
    "    [16., 17., 18., 19., 20.],\n",
    "    [21., 22., 23., 24., 25.],\n",
    "])\n",
    "kernel = np.array([\n",
    "    [.5, 3.2],\n",
    "    [1., -1.],\n",
    "])\n",
    "padding, stride = 2, 2\n",
    "expected = np.array([\n",
    "        [ -1., 1., 3., 5., 7., 15.],\n",
    "        [ -4., 16., 21., 26., 31., 35.],\n",
    "        [  1., 41., 46., 51., 56., 55.],\n",
    "        [  6., 66., 71., 76., 81., 75.],\n",
    "        [ 11., 91., 96., 101., 106., 95.],\n",
    "        [ 42., 65., 68., 71., 74.,  25.],\n",
    "    ])\n",
    "output = simple_conv2d(input_matrix, kernel, padding, stride)\n",
    "print(output)"
   ]
  },
  {
   "cell_type": "code",
   "execution_count": 43,
   "metadata": {},
   "outputs": [],
   "source": [
    "# Provided solution\n",
    "def simple_conv2d(input_matrix: np.ndarray, kernel: np.ndarray, padding: int, stride: int):\n",
    "    input_height, input_width = input_matrix.shape\n",
    "    kernel_height, kernel_width = kernel.shape\n",
    "\n",
    "    padded_input = np.pad(input_matrix, ((padding, padding), (padding, padding)), mode='constant')\n",
    "    input_height_padded, input_width_padded = padded_input.shape\n",
    "\n",
    "    output_height = (input_height_padded - kernel_height) // stride + 1\n",
    "    output_width = (input_width_padded - kernel_width) // stride + 1\n",
    "\n",
    "    output_matrix = np.zeros((output_height, output_width))\n",
    "\n",
    "    for i in range(output_height):\n",
    "        for j in range(output_width):\n",
    "            region = padded_input[i*stride:i*stride + kernel_height, j*stride:j*stride + kernel_width]\n",
    "            output_matrix[i, j] = np.sum(region * kernel)\n",
    "\n",
    "    return output_matrix"
   ]
  }
 ],
 "metadata": {
  "kernelspec": {
   "display_name": "base",
   "language": "python",
   "name": "python3"
  },
  "language_info": {
   "codemirror_mode": {
    "name": "ipython",
    "version": 3
   },
   "file_extension": ".py",
   "mimetype": "text/x-python",
   "name": "python",
   "nbconvert_exporter": "python",
   "pygments_lexer": "ipython3",
   "version": "3.12.7"
  }
 },
 "nbformat": 4,
 "nbformat_minor": 2
}
