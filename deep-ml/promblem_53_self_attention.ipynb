{
 "cells": [
  {
   "cell_type": "code",
   "execution_count": 1,
   "metadata": {},
   "outputs": [],
   "source": [
    "import numpy as np"
   ]
  },
  {
   "cell_type": "code",
   "execution_count": 19,
   "metadata": {},
   "outputs": [],
   "source": [
    "def compute_qkv(X, W_q, W_k, W_v):\n",
    "\treturn X @ W_q, X @ W_k, X @ W_v\n",
    "\n",
    "def self_attention(Q, K, V):\n",
    "    # Q, K, V: [S, D]\n",
    "\tweights = Q @ K.T  # S, S\n",
    "\tweights = weights.astype(np.float32)\n",
    "\tscale = 1 / float(K.shape[-1]) ** 0.5\n",
    "\tweights *= scale\n",
    "\tweights -= np.max(weights, axis=-1, keepdims=True)\n",
    "\tw_expo = np.exp(weights)\n",
    "\tsoftmax_w = w_expo / np.sum(w_expo, axis=-1, keepdims=True)\n",
    "\tattention_output = softmax_w @ V\n",
    "\treturn attention_output"
   ]
  },
  {
   "cell_type": "code",
   "execution_count": 20,
   "metadata": {},
   "outputs": [
    {
     "name": "stdout",
     "output_type": "stream",
     "text": [
      "[[1.66047692 2.66047692]\n",
      " [2.33952308 3.33952308]]\n"
     ]
    }
   ],
   "source": [
    "import numpy as np\n",
    "\n",
    "X = np.array([[1, 0], [0, 1]])\n",
    "W_q = np.array([[1, 0], [0, 1]])\n",
    "W_k = np.array([[1, 0], [0, 1]])\n",
    "W_v = np.array([[1, 2], [3, 4]])\n",
    "\n",
    "Q, K, V = compute_qkv(X, W_q, W_k, W_v)\n",
    "output = self_attention(Q, K, V)\n",
    "print(output)"
   ]
  }
 ],
 "metadata": {
  "kernelspec": {
   "display_name": "base",
   "language": "python",
   "name": "python3"
  },
  "language_info": {
   "codemirror_mode": {
    "name": "ipython",
    "version": 3
   },
   "file_extension": ".py",
   "mimetype": "text/x-python",
   "name": "python",
   "nbconvert_exporter": "python",
   "pygments_lexer": "ipython3",
   "version": "3.12.7"
  }
 },
 "nbformat": 4,
 "nbformat_minor": 2
}
