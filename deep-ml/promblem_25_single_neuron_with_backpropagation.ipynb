{
 "cells": [
  {
   "cell_type": "code",
   "execution_count": 7,
   "metadata": {},
   "outputs": [
    {
     "data": {
      "text/plain": [
       "([0.1036, -0.1425], -0.0167, [0.3033, 0.2942])"
      ]
     },
     "execution_count": 7,
     "metadata": {},
     "output_type": "execute_result"
    }
   ],
   "source": [
    "import numpy as np\n",
    "\n",
    "\n",
    "def sigmoid(x):\n",
    "    return 1 / (1 + np.exp(-x))\n",
    "# d_sigmoid / d_x = - 1 / (1 + e ** -x) ** 2 * (- 1) * e ** -x\n",
    "# d_sigmoid / d_x = e ** -x / (1 + e ** -x) ** 2\n",
    "# d_sigmoid / d_x = e ** -x * sigmoid(x) ** 2\n",
    "# d_sigmoid / d_x = sigmoid(x) * (1 - sigmoid(x))\n",
    "\n",
    "\n",
    "def train_neuron(\n",
    "    features: list[list[float]],  # B,D\n",
    "    labels: list[int],  # B\n",
    "    initial_weights: list[float],  # D\n",
    "    initial_bias: float,\n",
    "    learning_rate: float,\n",
    "    epochs: int,\n",
    ") -> tuple[list[float], float, list[float]]:\n",
    "\n",
    "    af = np.array(features)  # B, D\n",
    "    al = np.array(labels)\n",
    "    aw = np.array(initial_weights)\n",
    "    bias = initial_bias\n",
    "\n",
    "    mse_values = []\n",
    "\n",
    "    for _ in range(epochs):\n",
    "        # forward\n",
    "        preact = af @ aw + bias\n",
    "        pred = sigmoid(preact)\n",
    "        mse_value = np.mean((pred - al) ** 2)\n",
    "        mse_values.append(np.round(mse_value, decimals=4))\n",
    "\n",
    "        # backward\n",
    "        d_pred = 2 * (pred - al) / len(labels)  # B\n",
    "        d_preact = d_pred * pred * (1 - pred)  # B\n",
    "        d_bias = np.sum(d_preact)\n",
    "        d_aw = d_preact @ af  # D\n",
    "        aw -= learning_rate * d_aw\n",
    "        bias -= learning_rate * d_bias\n",
    "\n",
    "    updated_weights = np.round(aw, decimals=4).tolist()\n",
    "    updated_bias = np.round(bias, decimals=4)\n",
    "\n",
    "    return updated_weights, updated_bias, mse_values\n",
    "\n",
    "\n",
    "features = [[1.0, 2.0], [2.0, 1.0], [-1.0, -2.0]]\n",
    "labels = [1, 0, 0]\n",
    "initial_weights = [0.1, -0.2]\n",
    "initial_bias = 0.0\n",
    "learning_rate = 0.1\n",
    "epochs = 2\n",
    "\n",
    "train_neuron(features, labels, initial_weights, initial_bias, learning_rate, epochs)"
   ]
  }
 ],
 "metadata": {
  "kernelspec": {
   "display_name": "Python 3",
   "language": "python",
   "name": "python3"
  },
  "language_info": {
   "codemirror_mode": {
    "name": "ipython",
    "version": 3
   },
   "file_extension": ".py",
   "mimetype": "text/x-python",
   "name": "python",
   "nbconvert_exporter": "python",
   "pygments_lexer": "ipython3",
   "version": "3.12.7"
  }
 },
 "nbformat": 4,
 "nbformat_minor": 2
}
