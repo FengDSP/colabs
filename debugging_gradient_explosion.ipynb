{
 "cells": [
  {
   "cell_type": "code",
   "execution_count": 1,
   "metadata": {},
   "outputs": [],
   "source": [
    "import torch\n",
    "import torch.nn as nn\n",
    "import torch.optim as optim\n"
   ]
  },
  {
   "cell_type": "code",
   "execution_count": 57,
   "metadata": {},
   "outputs": [
    {
     "name": "stdout",
     "output_type": "stream",
     "text": [
      "epoch 0: train loss 1.1121506690979004\n",
      "epoch 1: train loss 1.1121093034744263\n",
      "epoch 2: train loss 1.1120681762695312\n",
      "epoch 3: train loss 1.1120266914367676\n"
     ]
    }
   ],
   "source": [
    "class SimpleModel(nn.Module):\n",
    "    def __init__(self, vocab, num_classes, dim=4, dtype=torch.float32):\n",
    "        super().__init__()\n",
    "        self.embedding = torch.nn.Embedding(vocab, dim, dtype=dtype)\n",
    "        self.classifier = torch.nn.Linear(dim, num_classes, dtype=dtype)\n",
    "\n",
    "    def forward(self, x):\n",
    "        x = self.embedding(x)\n",
    "        x = torch.mean(x, dim=-2)\n",
    "        return self.classifier(x)\n",
    "    \n",
    "\n",
    "def test_train(\n",
    "    weight_dtype=torch.float32,\n",
    "    use_amp=False,\n",
    "):\n",
    "    vocab = 10\n",
    "    num_classes = 3\n",
    "    n_samples = 50\n",
    "    input_seq = 6\n",
    "    epochs = 4\n",
    "    lr = 1e-4\n",
    "\n",
    "    train_x = torch.randint(0, vocab, [n_samples, input_seq], dtype=torch.long)\n",
    "    train_y = torch.randint(0, num_classes, [n_samples], dtype=torch.long)\n",
    "\n",
    "    model = SimpleModel(vocab, num_classes, dtype=weight_dtype)\n",
    "    model.train()\n",
    "    criterion = nn.CrossEntropyLoss()\n",
    "    optimizer = optim.Adam(model.parameters(), lr=lr, )\n",
    "    scaler = torch.amp.GradScaler() if use_amp else None\n",
    "\n",
    "    for epoch in range(epochs):\n",
    "        with torch.autocast('cpu', dtype=torch.float16, enabled=use_amp):\n",
    "            logits = model(train_x)\n",
    "            loss = criterion(logits, train_y)\n",
    "        print(f\"epoch {epoch}: train loss {loss.item()}\")\n",
    "\n",
    "        if use_amp:\n",
    "            scaler.scale(loss).backward()\n",
    "            scaler.step(optimizer)\n",
    "            scaler.update()\n",
    "        else:\n",
    "            loss.backward()\n",
    "            optimizer.step()\n",
    "        optimizer.zero_grad()\n",
    "\n",
    "\n",
    "test_train()"
   ]
  },
  {
   "cell_type": "code",
   "execution_count": 59,
   "metadata": {},
   "outputs": [
    {
     "name": "stdout",
     "output_type": "stream",
     "text": [
      "epoch 0: train loss 1.2509765625\n",
      "epoch 1: train loss nan\n",
      "epoch 2: train loss nan\n",
      "epoch 3: train loss nan\n"
     ]
    }
   ],
   "source": [
    "test_train(weight_dtype=torch.float16)"
   ]
  },
  {
   "cell_type": "code",
   "execution_count": 60,
   "metadata": {},
   "outputs": [
    {
     "name": "stdout",
     "output_type": "stream",
     "text": [
      "epoch 0: train loss 1.1404216289520264\n",
      "epoch 1: train loss nan\n",
      "epoch 2: train loss nan\n",
      "epoch 3: train loss nan\n"
     ]
    },
    {
     "name": "stderr",
     "output_type": "stream",
     "text": [
      "/opt/anaconda3/lib/python3.12/site-packages/torch/amp/grad_scaler.py:132: UserWarning: torch.cuda.amp.GradScaler is enabled, but CUDA is not available.  Disabling.\n",
      "  warnings.warn(\n"
     ]
    }
   ],
   "source": [
    "# Unfortunetely Automatic Mixed Precision doesn't work on CPU\n",
    "test_train(weight_dtype=torch.float16, use_amp=True)"
   ]
  }
 ],
 "metadata": {
  "kernelspec": {
   "display_name": "base",
   "language": "python",
   "name": "python3"
  },
  "language_info": {
   "codemirror_mode": {
    "name": "ipython",
    "version": 3
   },
   "file_extension": ".py",
   "mimetype": "text/x-python",
   "name": "python",
   "nbconvert_exporter": "python",
   "pygments_lexer": "ipython3",
   "version": "3.12.7"
  }
 },
 "nbformat": 4,
 "nbformat_minor": 2
}
