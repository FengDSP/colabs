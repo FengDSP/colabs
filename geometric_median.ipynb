{
 "cells": [
  {
   "cell_type": "code",
   "execution_count": null,
   "metadata": {},
   "outputs": [],
   "source": [
    "import numpy as np\n",
    "class Solution:\n",
    "    def getMinDistSum(self, positions: List[List[int]]) -> float:\n",
    "        if not positions:\n",
    "            return 0.0\n",
    "        epsilon = 1e-20\n",
    "        step_size = 0.5\n",
    "        points = np.array(positions, dtype=float)\n",
    "        center = points.mean(0, keepdims=1)  # 1, 2\n",
    "        for step in range(1000):\n",
    "            dists = ((center - points) ** 2).sum(1)  # N\n",
    "            sum_dist = (dists ** 0.5).sum()  # 1\n",
    "            clipped_dists = (dists < epsilon) * epsilon + dists\n",
    "            d_dist = 0.5 * (clipped_dists) ** -0.5  # N\n",
    "            d_center = 2 * (center - points) * d_dist.reshape(-1, 1)  # N\n",
    "            print(f\"step {step} d_center={d_center.sum(0)} sum_dist={sum_dist}\")\n",
    "            center -= step_size * 0.99 ** step * d_center.sum(0)\n",
    "\n",
    "        return sum_dist"
   ]
  }
 ],
 "metadata": {
  "language_info": {
   "name": "python"
  },
  "orig_nbformat": 4
 },
 "nbformat": 4,
 "nbformat_minor": 2
}
